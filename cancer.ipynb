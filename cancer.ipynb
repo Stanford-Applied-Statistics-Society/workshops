{
 "cells": [
  {
   "cell_type": "markdown",
   "metadata": {},
   "source": [
    "## Machine Learning: now with with data\n",
    "---\n",
    "* In today's workshop, we shall work with an actual dataset.\n",
    "* We will be developing a machine learning model for classifying tumors as either malignant or benign\n",
    "* In the process, we will explore ML ideas such as Binary Classification, Feature Selection, Model Evaluation.\n",
    "* Additionally, we will explore ways of using different ML algorithms to solve this problem.\n",
    "* Specifically, we will explore Logistic Regression, K-Means Clustering\n",
    "* We'll then give a `motivation` for why Deep Learning is such a consequential development in ML"
   ]
  },
  {
   "cell_type": "markdown",
   "metadata": {},
   "source": [
    "### Prologue\n",
    "***\n",
    "* We bring the essential Data and Numerical Computing Libraries into Scope.\n",
    "* These include:\n",
    "> * Numpy for Linear Algebra i.e working with Matrices. \n",
    "> * Pandas for handling labeled tabular data (as we'll be doing)\n",
    "> * Scikit learn (sklearn) for generic machine learning algorithms and other good things\n",
    "\n",
    "* If any of these libraries are not already installed on your system, you can `pip install` them. (Another Option is to install Anaconda, but ...)"
   ]
  },
  {
   "cell_type": "code",
   "execution_count": 2,
   "metadata": {},
   "outputs": [],
   "source": [
    "# Basic.\n",
    "import numpy as np\n",
    "import pandas as pd\n",
    "\n",
    "# Visualization\n",
    "import seaborn as sns \n",
    "from matplotlib import pyplot as plt\n",
    "%matplotlib inline\n",
    "\n",
    "# Machine Learning\n",
    "from sklearn import linear_model\n",
    "from sklearn import neighbors\n",
    "from sklearn import cluster\n",
    "from sklearn.metrics import confusion_matrix\n",
    "from sklearn.model_selection import train_test_split\n",
    "import tensorflow as tf\n",
    "\n",
    "# Misc\n",
    "from collections import Counter"
   ]
  },
  {
   "cell_type": "markdown",
   "metadata": {},
   "source": [
    "* Read the data. Here Pandas displays its beauty.\n",
    "* Without Pandas, we'd have had to read the data file one line at a time and parse it manually. A laborious process that is not only error prone (memory leaks from unclosed files, anyone?) but also inefficient (pandas is more optimized than any I/O code we can craft)\n",
    "* Just for completeness, we could have loaded the file directly into a `numpy array` by calling `np.genfromtext('./data,csv', ..., delimeter=',')` but then we wouldn't be able to get the glorious table that you are about to see.\n",
    "\n",
    "\n",
    "- *** Oh, and the data was downloaded from [Kaggle](https://www.kaggle.com/uciml/breast-cancer-wisconsin-data/data)***"
   ]
  },
  {
   "cell_type": "code",
   "execution_count": 3,
   "metadata": {},
   "outputs": [],
   "source": [
    "data = pd.read_csv('./data.csv')\n",
    "data.drop('Unnamed: 32', axis=1, inplace=True)\n",
    "data.drop('id', axis=1, inplace=True)"
   ]
  },
  {
   "cell_type": "code",
   "execution_count": 4,
   "metadata": {},
   "outputs": [
    {
     "data": {
      "text/html": [
       "<div>\n",
       "<table border=\"1\" class=\"dataframe\">\n",
       "  <thead>\n",
       "    <tr style=\"text-align: right;\">\n",
       "      <th></th>\n",
       "      <th>diagnosis</th>\n",
       "      <th>radius_mean</th>\n",
       "      <th>texture_mean</th>\n",
       "      <th>perimeter_mean</th>\n",
       "      <th>area_mean</th>\n",
       "      <th>smoothness_mean</th>\n",
       "      <th>compactness_mean</th>\n",
       "      <th>concavity_mean</th>\n",
       "      <th>concave points_mean</th>\n",
       "      <th>symmetry_mean</th>\n",
       "      <th>...</th>\n",
       "      <th>radius_worst</th>\n",
       "      <th>texture_worst</th>\n",
       "      <th>perimeter_worst</th>\n",
       "      <th>area_worst</th>\n",
       "      <th>smoothness_worst</th>\n",
       "      <th>compactness_worst</th>\n",
       "      <th>concavity_worst</th>\n",
       "      <th>concave points_worst</th>\n",
       "      <th>symmetry_worst</th>\n",
       "      <th>fractal_dimension_worst</th>\n",
       "    </tr>\n",
       "  </thead>\n",
       "  <tbody>\n",
       "    <tr>\n",
       "      <th>204</th>\n",
       "      <td>B</td>\n",
       "      <td>12.47</td>\n",
       "      <td>18.60</td>\n",
       "      <td>81.09</td>\n",
       "      <td>481.9</td>\n",
       "      <td>0.09965</td>\n",
       "      <td>0.10580</td>\n",
       "      <td>0.08005</td>\n",
       "      <td>0.03821</td>\n",
       "      <td>0.1925</td>\n",
       "      <td>...</td>\n",
       "      <td>14.97</td>\n",
       "      <td>24.64</td>\n",
       "      <td>96.05</td>\n",
       "      <td>677.9</td>\n",
       "      <td>0.14260</td>\n",
       "      <td>0.2378</td>\n",
       "      <td>0.2671</td>\n",
       "      <td>0.10150</td>\n",
       "      <td>0.3014</td>\n",
       "      <td>0.08750</td>\n",
       "    </tr>\n",
       "    <tr>\n",
       "      <th>70</th>\n",
       "      <td>M</td>\n",
       "      <td>18.94</td>\n",
       "      <td>21.31</td>\n",
       "      <td>123.60</td>\n",
       "      <td>1130.0</td>\n",
       "      <td>0.09009</td>\n",
       "      <td>0.10290</td>\n",
       "      <td>0.10800</td>\n",
       "      <td>0.07951</td>\n",
       "      <td>0.1582</td>\n",
       "      <td>...</td>\n",
       "      <td>24.86</td>\n",
       "      <td>26.58</td>\n",
       "      <td>165.90</td>\n",
       "      <td>1866.0</td>\n",
       "      <td>0.11930</td>\n",
       "      <td>0.2336</td>\n",
       "      <td>0.2687</td>\n",
       "      <td>0.17890</td>\n",
       "      <td>0.2551</td>\n",
       "      <td>0.06589</td>\n",
       "    </tr>\n",
       "    <tr>\n",
       "      <th>131</th>\n",
       "      <td>M</td>\n",
       "      <td>15.46</td>\n",
       "      <td>19.48</td>\n",
       "      <td>101.70</td>\n",
       "      <td>748.9</td>\n",
       "      <td>0.10920</td>\n",
       "      <td>0.12230</td>\n",
       "      <td>0.14660</td>\n",
       "      <td>0.08087</td>\n",
       "      <td>0.1931</td>\n",
       "      <td>...</td>\n",
       "      <td>19.26</td>\n",
       "      <td>26.00</td>\n",
       "      <td>124.90</td>\n",
       "      <td>1156.0</td>\n",
       "      <td>0.15460</td>\n",
       "      <td>0.2394</td>\n",
       "      <td>0.3791</td>\n",
       "      <td>0.15140</td>\n",
       "      <td>0.2837</td>\n",
       "      <td>0.08019</td>\n",
       "    </tr>\n",
       "    <tr>\n",
       "      <th>431</th>\n",
       "      <td>B</td>\n",
       "      <td>12.40</td>\n",
       "      <td>17.68</td>\n",
       "      <td>81.47</td>\n",
       "      <td>467.8</td>\n",
       "      <td>0.10540</td>\n",
       "      <td>0.13160</td>\n",
       "      <td>0.07741</td>\n",
       "      <td>0.02799</td>\n",
       "      <td>0.1811</td>\n",
       "      <td>...</td>\n",
       "      <td>12.88</td>\n",
       "      <td>22.91</td>\n",
       "      <td>89.61</td>\n",
       "      <td>515.8</td>\n",
       "      <td>0.14500</td>\n",
       "      <td>0.2629</td>\n",
       "      <td>0.2403</td>\n",
       "      <td>0.07370</td>\n",
       "      <td>0.2556</td>\n",
       "      <td>0.09359</td>\n",
       "    </tr>\n",
       "    <tr>\n",
       "      <th>540</th>\n",
       "      <td>B</td>\n",
       "      <td>11.54</td>\n",
       "      <td>14.44</td>\n",
       "      <td>74.65</td>\n",
       "      <td>402.9</td>\n",
       "      <td>0.09984</td>\n",
       "      <td>0.11200</td>\n",
       "      <td>0.06737</td>\n",
       "      <td>0.02594</td>\n",
       "      <td>0.1818</td>\n",
       "      <td>...</td>\n",
       "      <td>12.26</td>\n",
       "      <td>19.68</td>\n",
       "      <td>78.78</td>\n",
       "      <td>457.8</td>\n",
       "      <td>0.13450</td>\n",
       "      <td>0.2118</td>\n",
       "      <td>0.1797</td>\n",
       "      <td>0.06918</td>\n",
       "      <td>0.2329</td>\n",
       "      <td>0.08134</td>\n",
       "    </tr>\n",
       "    <tr>\n",
       "      <th>567</th>\n",
       "      <td>M</td>\n",
       "      <td>20.60</td>\n",
       "      <td>29.33</td>\n",
       "      <td>140.10</td>\n",
       "      <td>1265.0</td>\n",
       "      <td>0.11780</td>\n",
       "      <td>0.27700</td>\n",
       "      <td>0.35140</td>\n",
       "      <td>0.15200</td>\n",
       "      <td>0.2397</td>\n",
       "      <td>...</td>\n",
       "      <td>25.74</td>\n",
       "      <td>39.42</td>\n",
       "      <td>184.60</td>\n",
       "      <td>1821.0</td>\n",
       "      <td>0.16500</td>\n",
       "      <td>0.8681</td>\n",
       "      <td>0.9387</td>\n",
       "      <td>0.26500</td>\n",
       "      <td>0.4087</td>\n",
       "      <td>0.12400</td>\n",
       "    </tr>\n",
       "    <tr>\n",
       "      <th>369</th>\n",
       "      <td>M</td>\n",
       "      <td>22.01</td>\n",
       "      <td>21.90</td>\n",
       "      <td>147.20</td>\n",
       "      <td>1482.0</td>\n",
       "      <td>0.10630</td>\n",
       "      <td>0.19540</td>\n",
       "      <td>0.24480</td>\n",
       "      <td>0.15010</td>\n",
       "      <td>0.1824</td>\n",
       "      <td>...</td>\n",
       "      <td>27.66</td>\n",
       "      <td>25.80</td>\n",
       "      <td>195.00</td>\n",
       "      <td>2227.0</td>\n",
       "      <td>0.12940</td>\n",
       "      <td>0.3885</td>\n",
       "      <td>0.4756</td>\n",
       "      <td>0.24320</td>\n",
       "      <td>0.2741</td>\n",
       "      <td>0.08574</td>\n",
       "    </tr>\n",
       "    <tr>\n",
       "      <th>29</th>\n",
       "      <td>M</td>\n",
       "      <td>17.57</td>\n",
       "      <td>15.05</td>\n",
       "      <td>115.00</td>\n",
       "      <td>955.1</td>\n",
       "      <td>0.09847</td>\n",
       "      <td>0.11570</td>\n",
       "      <td>0.09875</td>\n",
       "      <td>0.07953</td>\n",
       "      <td>0.1739</td>\n",
       "      <td>...</td>\n",
       "      <td>20.01</td>\n",
       "      <td>19.52</td>\n",
       "      <td>134.90</td>\n",
       "      <td>1227.0</td>\n",
       "      <td>0.12550</td>\n",
       "      <td>0.2812</td>\n",
       "      <td>0.2489</td>\n",
       "      <td>0.14560</td>\n",
       "      <td>0.2756</td>\n",
       "      <td>0.07919</td>\n",
       "    </tr>\n",
       "    <tr>\n",
       "      <th>81</th>\n",
       "      <td>B</td>\n",
       "      <td>13.34</td>\n",
       "      <td>15.86</td>\n",
       "      <td>86.49</td>\n",
       "      <td>520.0</td>\n",
       "      <td>0.10780</td>\n",
       "      <td>0.15350</td>\n",
       "      <td>0.11690</td>\n",
       "      <td>0.06987</td>\n",
       "      <td>0.1942</td>\n",
       "      <td>...</td>\n",
       "      <td>15.53</td>\n",
       "      <td>23.19</td>\n",
       "      <td>96.66</td>\n",
       "      <td>614.9</td>\n",
       "      <td>0.15360</td>\n",
       "      <td>0.4791</td>\n",
       "      <td>0.4858</td>\n",
       "      <td>0.17080</td>\n",
       "      <td>0.3527</td>\n",
       "      <td>0.10160</td>\n",
       "    </tr>\n",
       "    <tr>\n",
       "      <th>477</th>\n",
       "      <td>B</td>\n",
       "      <td>13.90</td>\n",
       "      <td>16.62</td>\n",
       "      <td>88.97</td>\n",
       "      <td>599.4</td>\n",
       "      <td>0.06828</td>\n",
       "      <td>0.05319</td>\n",
       "      <td>0.02224</td>\n",
       "      <td>0.01339</td>\n",
       "      <td>0.1813</td>\n",
       "      <td>...</td>\n",
       "      <td>15.14</td>\n",
       "      <td>21.80</td>\n",
       "      <td>101.20</td>\n",
       "      <td>718.9</td>\n",
       "      <td>0.09384</td>\n",
       "      <td>0.2006</td>\n",
       "      <td>0.1384</td>\n",
       "      <td>0.06222</td>\n",
       "      <td>0.2679</td>\n",
       "      <td>0.07698</td>\n",
       "    </tr>\n",
       "  </tbody>\n",
       "</table>\n",
       "<p>10 rows × 31 columns</p>\n",
       "</div>"
      ],
      "text/plain": [
       "    diagnosis  radius_mean  texture_mean  perimeter_mean  area_mean  \\\n",
       "204         B        12.47         18.60           81.09      481.9   \n",
       "70          M        18.94         21.31          123.60     1130.0   \n",
       "131         M        15.46         19.48          101.70      748.9   \n",
       "431         B        12.40         17.68           81.47      467.8   \n",
       "540         B        11.54         14.44           74.65      402.9   \n",
       "567         M        20.60         29.33          140.10     1265.0   \n",
       "369         M        22.01         21.90          147.20     1482.0   \n",
       "29          M        17.57         15.05          115.00      955.1   \n",
       "81          B        13.34         15.86           86.49      520.0   \n",
       "477         B        13.90         16.62           88.97      599.4   \n",
       "\n",
       "     smoothness_mean  compactness_mean  concavity_mean  concave points_mean  \\\n",
       "204          0.09965           0.10580         0.08005              0.03821   \n",
       "70           0.09009           0.10290         0.10800              0.07951   \n",
       "131          0.10920           0.12230         0.14660              0.08087   \n",
       "431          0.10540           0.13160         0.07741              0.02799   \n",
       "540          0.09984           0.11200         0.06737              0.02594   \n",
       "567          0.11780           0.27700         0.35140              0.15200   \n",
       "369          0.10630           0.19540         0.24480              0.15010   \n",
       "29           0.09847           0.11570         0.09875              0.07953   \n",
       "81           0.10780           0.15350         0.11690              0.06987   \n",
       "477          0.06828           0.05319         0.02224              0.01339   \n",
       "\n",
       "     symmetry_mean           ...             radius_worst  texture_worst  \\\n",
       "204         0.1925           ...                    14.97          24.64   \n",
       "70          0.1582           ...                    24.86          26.58   \n",
       "131         0.1931           ...                    19.26          26.00   \n",
       "431         0.1811           ...                    12.88          22.91   \n",
       "540         0.1818           ...                    12.26          19.68   \n",
       "567         0.2397           ...                    25.74          39.42   \n",
       "369         0.1824           ...                    27.66          25.80   \n",
       "29          0.1739           ...                    20.01          19.52   \n",
       "81          0.1942           ...                    15.53          23.19   \n",
       "477         0.1813           ...                    15.14          21.80   \n",
       "\n",
       "     perimeter_worst  area_worst  smoothness_worst  compactness_worst  \\\n",
       "204            96.05       677.9           0.14260             0.2378   \n",
       "70            165.90      1866.0           0.11930             0.2336   \n",
       "131           124.90      1156.0           0.15460             0.2394   \n",
       "431            89.61       515.8           0.14500             0.2629   \n",
       "540            78.78       457.8           0.13450             0.2118   \n",
       "567           184.60      1821.0           0.16500             0.8681   \n",
       "369           195.00      2227.0           0.12940             0.3885   \n",
       "29            134.90      1227.0           0.12550             0.2812   \n",
       "81             96.66       614.9           0.15360             0.4791   \n",
       "477           101.20       718.9           0.09384             0.2006   \n",
       "\n",
       "     concavity_worst  concave points_worst  symmetry_worst  \\\n",
       "204           0.2671               0.10150          0.3014   \n",
       "70            0.2687               0.17890          0.2551   \n",
       "131           0.3791               0.15140          0.2837   \n",
       "431           0.2403               0.07370          0.2556   \n",
       "540           0.1797               0.06918          0.2329   \n",
       "567           0.9387               0.26500          0.4087   \n",
       "369           0.4756               0.24320          0.2741   \n",
       "29            0.2489               0.14560          0.2756   \n",
       "81            0.4858               0.17080          0.3527   \n",
       "477           0.1384               0.06222          0.2679   \n",
       "\n",
       "     fractal_dimension_worst  \n",
       "204                  0.08750  \n",
       "70                   0.06589  \n",
       "131                  0.08019  \n",
       "431                  0.09359  \n",
       "540                  0.08134  \n",
       "567                  0.12400  \n",
       "369                  0.08574  \n",
       "29                   0.07919  \n",
       "81                   0.10160  \n",
       "477                  0.07698  \n",
       "\n",
       "[10 rows x 31 columns]"
      ]
     },
     "execution_count": 4,
     "metadata": {},
     "output_type": "execute_result"
    }
   ],
   "source": [
    "data.sample(n=10, random_state=42)"
   ]
  },
  {
   "cell_type": "code",
   "execution_count": 5,
   "metadata": {},
   "outputs": [
    {
     "data": {
      "text/plain": [
       "Index([u'diagnosis', u'radius_mean', u'texture_mean', u'perimeter_mean',\n",
       "       u'area_mean', u'smoothness_mean', u'compactness_mean',\n",
       "       u'concavity_mean', u'concave points_mean', u'symmetry_mean',\n",
       "       u'fractal_dimension_mean', u'radius_se', u'texture_se', u'perimeter_se',\n",
       "       u'area_se', u'smoothness_se', u'compactness_se', u'concavity_se',\n",
       "       u'concave points_se', u'symmetry_se', u'fractal_dimension_se',\n",
       "       u'radius_worst', u'texture_worst', u'perimeter_worst', u'area_worst',\n",
       "       u'smoothness_worst', u'compactness_worst', u'concavity_worst',\n",
       "       u'concave points_worst', u'symmetry_worst', u'fractal_dimension_worst'],\n",
       "      dtype='object')"
      ]
     },
     "execution_count": 5,
     "metadata": {},
     "output_type": "execute_result"
    }
   ],
   "source": [
    "data.columns"
   ]
  },
  {
   "cell_type": "code",
   "execution_count": 6,
   "metadata": {},
   "outputs": [
    {
     "data": {
      "text/plain": [
       "(-0.01, 0.5)"
      ]
     },
     "execution_count": 6,
     "metadata": {},
     "output_type": "execute_result"
    },
    {
     "data": {
      "image/png": "[encoded data removed]",
      "text/plain": [
       "<matplotlib.figure.Figure at 0x10ccd8590>"
      ]
     },
     "metadata": {},
     "output_type": "display_data"
    }
   ],
   "source": [
    "\"\"\"\n",
    "Just a little bit about Exploratory Data Analysis (EDA)\n",
    "\"\"\"\n",
    "sns.set_style('whitegrid')\n",
    "sns.lmplot(x='radius_mean', y='concavity_mean', \n",
    "           data=data, fit_reg=False, hue='diagnosis',\n",
    "           size=6, aspect=2\n",
    ")\n",
    "plt.ylim(-0.01, 0.5)"
   ]
  },
  {
   "cell_type": "markdown",
   "metadata": {},
   "source": [
    "### Supervised Learning: a very short rant.\n",
    "---\n",
    "* We want to find a feature vector $\\theta$ and a bias term `b`. To see why this makes sense, rememeber the familiar, unassuming equation for a line: $$f(x) = mx + b$$ where `m` is the slope and `b` is the intercept. Notice that once we find these two __parameters__, given a new value of $x$ we can confidently predict its $y = f(x)$ value.\n",
    "* This, observation is the foundation of a class of Supervised Learning techniques called ***Parametric methods.*** \n",
    "* Remember, Supervised Learning refers to ML algorithms that require labeled data. \n",
    "\n",
    "* We generalize this idea in the eqn below: $$f(x) = y = \\theta^Tx + b$$ The uncanny similarity between this and the previous eqn is obvious. We still want to predict $y \\in \\{-1, 1\\}$, $x$,  $b$, and $\\theta$ all $ \\in \\mathbb{R}^n$ and we use the dot product which generalizes multiplication to higher dimensions. This is  the first of three key building blocks of any (all?) Supervised Learning algorthms, (The other 2 being Loss Function Specification and Optimization on the Loss Function)."
   ]
  },
  {
   "cell_type": "code",
   "execution_count": 7,
   "metadata": {},
   "outputs": [],
   "source": [
    "'''\n",
    "Remember y = $\\theta^Tx + b\n",
    "we want to find theta and b. Y and X come from our training data.\n",
    "So let's set that up.\n",
    "'''\n",
    "Y = np.array([1 if v == 'M' else 0 for v in data['diagnosis']])"
   ]
  },
  {
   "cell_type": "code",
   "execution_count": 8,
   "metadata": {},
   "outputs": [
    {
     "data": {
      "text/plain": [
       "(569, 30)"
      ]
     },
     "execution_count": 8,
     "metadata": {},
     "output_type": "execute_result"
    }
   ],
   "source": [
    "X = data.drop('diagnosis', axis=1).values\n",
    "X.shape"
   ]
  },
  {
   "cell_type": "markdown",
   "metadata": {},
   "source": [
    "#### Training Sets, Development Sets, Validation Sets\n",
    "* To know how well our our models are doing on our data, we'll need to test them\n",
    "<img src=\"./train_test.png\" alt=\"Train, Test, Dev Split\" title=\"A picture is worth 250 words\" style=\"width: 600px;\"/>\n",
    "\n",
    "Scikit Learn has a function that does that for us."
   ]
  },
  {
   "cell_type": "code",
   "execution_count": 9,
   "metadata": {},
   "outputs": [],
   "source": [
    "X_train, X_test, Y_train, Y_test = train_test_split(\n",
    "    X, Y, test_size=0.30\n",
    ")"
   ]
  },
  {
   "cell_type": "code",
   "execution_count": 10,
   "metadata": {},
   "outputs": [
    {
     "name": "stdout",
     "output_type": "stream",
     "text": [
      "(398, 30) (398,)\n",
      "(171, 30) (171,)\n"
     ]
    }
   ],
   "source": [
    "print X_train.shape, Y_train.shape\n",
    "print X_test.shape, Y_test.shape"
   ]
  },
  {
   "cell_type": "markdown",
   "metadata": {
    "collapsed": true
   },
   "source": [
    "### The stage has been set.\n",
    "* We have labelled data, which we have split into train and test sets.\n",
    "* We want to use the test data $X_{test}$ and $Y_{test}$ to __learn__ parameters ($\\theta$ and $b$) of a function that maps $X \\rightarrow Y$"
   ]
  },
  {
   "cell_type": "markdown",
   "metadata": {},
   "source": [
    "### 1. Logistic Regression\n",
    "##### a. Representation\n",
    "* Consider a single training example $\\{x^{(i)}, y^{(i)}\\}$ notice that, the function $y^{(i)}\\theta^Tx^{(i)}$ is always positive, i.e $ y^{(i)}\\theta^Tx^{(i)} > 0$   if we classify this example correctly. Remember, $\\theta^Tx^{(i)}$ is our prediction for what $y^{(i)}$ is, (where we include the bias term $b$ inside the feature vector for convenience).\n",
    "\n",
    "##### b. Loss Function\n",
    "* We optimize (Minimize or Maximize – mostly minimize) Loss functions.\n",
    "* Logistic regression uses the logistic loss function $$g(y^{(i)}\\theta^Tx^{(i)}) = log(1 + exp[-y^{(i)}\\theta^Tx^{(i)}])$$\n",
    "* Logistic regression is basically choosing $\\theta$ that minimizes $$ J(\\theta) = \\dfrac{1}{m}\\sum_{i=1}^{m} log(1 + exp[-y^{(i)}\\theta^Tx^{(i)}])$$\n",
    "\n",
    "* We are hoping that minimizing the average logistic loss accross all $m$ training examples will produce $\\theta$ such that $ y^{(i)}\\theta^Tx^{(i)} > 0$ for all (or almost all) training examples.\n",
    "\n",
    "##### c. Optimization\n",
    "* Optimization, as you know from calculus, involves taking derivatives and finding points at which the derivatives equal to 0. We can do that with the logistic function, but we won't get into that. (Take 229!)\n",
    "* We fit (find the parameters $\\theta$) the model using Gradient Descent. GD is an iterative optimization algorithm that takes the derivative with respect to the current values of $\\theta$ and `moves` in the direction of that derivative i.e direction of steepest descent. We hope that, by iteratively moving down the slope, we'll eventually reach the lowest point.\n",
    "\n",
    ">> The discussion above uses $y \\in \\{-1, 1\\}$ yet our implementaion below uses $y \\in \\{0, 1\\}$, this is only a mathematical difference and does not change the model."
   ]
  },
  {
   "cell_type": "code",
   "execution_count": 11,
   "metadata": {},
   "outputs": [
    {
     "name": "stdout",
     "output_type": "stream",
     "text": [
      "Classification Accuracy on the Test Set is 93.567251462 Percent\n",
      "[ -1.87883115e+00  -9.28490508e-02   1.54854572e-03  -3.15908577e-03\n",
      "   1.22891541e-01   3.70563919e-01   5.38478883e-01   2.74557244e-01\n",
      "   1.54753875e-01   3.21525656e-02   1.32048402e-02  -7.17826449e-01\n",
      "  -4.74954237e-01   1.40137166e-01   6.95148681e-03   3.35892931e-02\n",
      "   3.93346414e-02   2.59224686e-02   3.63190760e-02   3.06146136e-03\n",
      "  -1.13033125e+00   3.44942918e-01   1.21535580e-01   2.86290777e-02\n",
      "   2.06297404e-01   1.13927271e+00   1.44355345e+00   4.84501559e-01\n",
      "   5.71481736e-01   1.32812909e-01]\n",
      "-0.365390748623\n"
     ]
    }
   ],
   "source": [
    "'''\n",
    "Back to Breast Cancer.\n",
    "sklearn.linear_model houses linear_models \n",
    "'''\n",
    "log_regression = linear_model.LogisticRegression()\n",
    "log_regression.fit(X_train, Y_train)\n",
    "model_one_score = log_regression.score(X_test, Y_test)\n",
    "print \"Classification Accuracy on the Test Set is \" + str(model_one_score * 100) + \" Percent\"\n",
    "\n",
    "theta = log_regression.coef_[0]\n",
    "b = log_regression.intercept_[0]\n",
    "print theta\n",
    "print b"
   ]
  },
  {
   "cell_type": "markdown",
   "metadata": {},
   "source": [
    "##### Take-aways and Additional thoughts\n",
    "* We used Logistic Regression to find the parameters $\\theta$ and $b$ Together, these two define a hyperplane separating the tumors into either Malignant or Benign.\n",
    "* Classification Accuracy on the test set was $95.3216374269 \\%$ \n",
    "* Model Representation $\\rightarrow$ Loss Function  $\\rightarrow$ Optimizing the Loss Function.\n",
    "* Train - Test - Split. (Model Validation)\n",
    "* Feature Selection.\n",
    "* Regularization -- Logistic Regression is always regularized."
   ]
  },
  {
   "cell_type": "markdown",
   "metadata": {},
   "source": [
    "### 3. K-Means\n",
    "1. Remember K-Means is an example of an unsurpervised learning algorithm. In short, we do not need $Y_{train}$ We (as in we puny humans, not the algorithm), however need $Y_{test}$ for testing.\n",
    "2. Instead of trying to find a separating hyperplane, k-Means attempts to group our training data into k groups, each defined by their cluster center, aka the centroid.\n",
    "3. Then, given a new example $x$ we calculate the distance from $x$ to all the centroids and assign $x$ to the class whose centroid is closest to $x$\n",
    "\n",
    "K-Means Procedure.\n",
    "> * You are given a list of N vectors $x_1, ..., x_N$ and an initial list random k centroids $z_1, ...., z_k$\n",
    ">* Repeat the following untill convergence:\n",
    ">> * Partition the vectors into k groups, such that each vector $x_i$ is placed inside the same group as the centroid closest to it.\n",
    ">> * Update the centroids. for each of the clusters that we've created from the first step, the new centroid is updated to be the mean of the vectors in that cluster.\n",
    "\n",
    "Pseudo-Code.\n",
    "```python\n",
    "def K_Means(vectors, centroids):\n",
    "    clusters = []\n",
    "    while True:\n",
    "        if we_have_reached_convergence(): break\n",
    "        for vector in vectors:\n",
    "            closest_centroid = find_closest_centroid(\n",
    "                                   vector, centroids\n",
    "                              )\n",
    "            assign_vector_to_nearest_centroid(clusters, closest_centroid)\n",
    "        for cluster in clusters:\n",
    "            new_cluster_center = np.mean(cluster)\n",
    "    return clusters\n",
    "```"
   ]
  },
  {
   "cell_type": "code",
   "execution_count": 12,
   "metadata": {},
   "outputs": [
    {
     "data": {
      "text/plain": [
       "Text(0.5,16,u'Predicted label')"
      ]
     },
     "execution_count": 12,
     "metadata": {},
     "output_type": "execute_result"
    },
    {
     "data": {
      "image/png": "[encoded data removed]",
      "text/plain": [
       "<matplotlib.figure.Figure at 0x11f370090>"
      ]
     },
     "metadata": {},
     "output_type": "display_data"
    }
   ],
   "source": [
    "'''\n",
    "Back To Cancer.\n",
    "We now use K-Means to solve the cancer classification problem.\n",
    "'''\n",
    "kmeans = cluster.KMeans(n_clusters=2, init='k-means++')\n",
    "kmeans.fit(X_train)\n",
    "prediction = kmeans.predict(X_test)\n",
    "\n",
    "cm = confusion_matrix(Y_test, prediction)\n",
    "sns.set_style(\"whitegrid\")\n",
    "sns.heatmap(cm)\n",
    "plt.title('Confusion matrix')\n",
    "plt.ylabel('True label')\n",
    "plt.xlabel('Predicted label')"
   ]
  },
  {
   "cell_type": "markdown",
   "metadata": {},
   "source": [
    "#### neural networks.\n",
    "---\n",
    "<img src=\"./morty.jpg\" alt=\"NN\" title=\"A picture is worth 250 words\" style=\"width: 300px;\"/>\n",
    "* Oh geez!, where do I find enough bored oncologists to extract features from tumor samples so that I can create a training dataset? Oh geez!\n",
    "* Neural Networks, the centerpiece of Deep Learning $\\blacksquare$\n",
    "\n",
    "> ___To be continued___"
   ]
  },
  {
   "cell_type": "code",
   "execution_count": null,
   "metadata": {
    "collapsed": true
   },
   "outputs": [],
   "source": []
  }
 ],
 "metadata": {
  "kernelspec": {
   "display_name": "Python 2",
   "language": "python",
   "name": "python2"
  },
  "language_info": {
   "codemirror_mode": {
    "name": "ipython",
    "version": 2
   },
   "file_extension": ".py",
   "mimetype": "text/x-python",
   "name": "python",
   "nbconvert_exporter": "python",
   "pygments_lexer": "ipython2",
   "version": "2.7.13"
  }
 },
 "nbformat": 4,
 "nbformat_minor": 2
}
